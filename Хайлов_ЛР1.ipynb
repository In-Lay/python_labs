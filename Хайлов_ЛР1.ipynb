{
 "cells": [
  {
   "cell_type": "code",
   "execution_count": null,
   "metadata": {
    "id": "IhEGxdTVzJiR"
   },
   "outputs": [],
   "source": [
    "Лабораторна робота №1\n",
    "\n",
    "з дисципліни \"Обробка даних Python\"\n",
    "\n",
    "---\n",
    "\n",
    "Виконав:\n",
    "\n",
    "студент групи КН-221Б\n",
    "\n",
    "Хайлов Данило Євгенович\n",
    "\n",
    "\n",
    "---\n",
    "\n",
    "\n",
    "Прийняв:\n",
    "\n",
    "асистент кафедри\n",
    "\n",
    "Звєрцев Г.О."
   ]
  },
  {
   "cell_type": "markdown",
   "metadata": {
    "id": "bT4yZkpl4cJL"
   },
   "source": [
    "**Мета:** отримати базові навики використання Python для дослідження та\n",
    "візуалізації даних."
   ]
  },
  {
   "cell_type": "markdown",
   "metadata": {
    "id": "W0BvlKiZA5xw"
   },
   "source": [
    "Номер варіанту:"
   ]
  },
  {
   "cell_type": "code",
   "execution_count": null,
   "metadata": {
    "colab": {
     "base_uri": "https://localhost:8080/"
    },
    "executionInfo": {
     "elapsed": 4,
     "status": "ok",
     "timestamp": 1700254913364,
     "user": {
      "displayName": "Хайлов Данило",
      "userId": "17738531943993381932"
     },
     "user_tz": -120
    },
    "id": "FOE-6Y2wvHWV",
    "outputId": "7f420f5c-6005-4346-e0b8-79d1fdc6e356"
   },
   "outputs": [
    {
     "name": "stdout",
     "output_type": "stream",
     "text": [
      "3\n"
     ]
    }
   ],
   "source": [
    "N = ord(\"D\") % 3 + 1\n",
    "print(N)"
   ]
  },
  {
   "cell_type": "markdown",
   "metadata": {
    "id": "h981TjvT3noz"
   },
   "source": [
    "**Варіант 3. Дослідження втрат бронетранспортерів (БТР).**\n",
    "1. Створіть функцію, яка приймає назву файлу та назву стовпця як параметр та повертає масив numpy зі значеннями стовпця.\n",
    "2. Використовуючи функцію з попереднього завдання, створіть масив numpy зі значень стовпця «APC» (Armored personnel carrier).\n",
    "3. Знайдіть добові втрати БТР.\n",
    "4. Знайдіть 5 найбільших добових втрат БТР.\n",
    "5. Визначте, скільки БТР було знищено влітку 2023 року.\n",
    "6. Знайдіть середнє значення знищених БТР за 100-500 днів війни.\n",
    "7. Створіть графік втрат БТР за останні 200 днів (починаючи з останньої дати в наборі даних)"
   ]
  },
  {
   "cell_type": "markdown",
   "metadata": {
    "id": "Nuz07mG-BCcr"
   },
   "source": [
    "Імпорти для виконання"
   ]
  },
  {
   "cell_type": "code",
   "execution_count": null,
   "metadata": {
    "id": "EUwrkZt8zGOk"
   },
   "outputs": [],
   "source": [
    "import numpy as np\n",
    "import pandas as pd\n",
    "import csv\n",
    "import matplotlib.pyplot as plt"
   ]
  },
  {
   "cell_type": "markdown",
   "metadata": {
    "id": "jrL5ETECCiru"
   },
   "source": [
    "Підключення до Google Drive"
   ]
  },
  {
   "cell_type": "code",
   "execution_count": null,
   "metadata": {
    "colab": {
     "base_uri": "https://localhost:8080/"
    },
    "executionInfo": {
     "elapsed": 17778,
     "status": "ok",
     "timestamp": 1700255397413,
     "user": {
      "displayName": "Хайлов Данило",
      "userId": "17738531943993381932"
     },
     "user_tz": -120
    },
    "id": "w65Oo96qCoA7",
    "outputId": "25cd64c0-7ea0-4b4e-b8f5-087d4e8b6315"
   },
   "outputs": [],
   "source": [
    "from google.colab import drive\n",
    "drive.mount('/content/drive')"
   ]
  },
  {
   "cell_type": "markdown",
   "metadata": {
    "id": "iQZez-ij3qvj"
   },
   "source": [
    "Файл для роботи"
   ]
  },
  {
   "cell_type": "code",
   "execution_count": 4,
   "metadata": {
    "executionInfo": {
     "elapsed": 262,
     "status": "ok",
     "timestamp": 1700255490025,
     "user": {
      "displayName": "Хайлов Данило",
      "userId": "17738531943993381932"
     },
     "user_tz": -120
    },
    "id": "X3joQObiBanG"
   },
   "outputs": [],
   "source": [
    "file = '/content/drive/MyDrive/Data Analysis Python/russia_losses_equipment.csv'"
   ]
  },
  {
   "cell_type": "markdown",
   "metadata": {
    "id": "Aqp4eNoq2uI0"
   },
   "source": [
    "Читання файлу."
   ]
  },
  {
   "cell_type": "code",
   "execution_count": 5,
   "metadata": {
    "colab": {
     "base_uri": "https://localhost:8080/"
    },
    "executionInfo": {
     "elapsed": 386,
     "status": "ok",
     "timestamp": 1700255492720,
     "user": {
      "displayName": "Хайлов Данило",
      "userId": "17738531943993381932"
     },
     "user_tz": -120
    },
    "id": "8SLFPgnQCKGc",
    "outputId": "cf18e774-13ae-486c-8495-ec1722ce4f3d"
   },
   "outputs": [
    {
     "name": "stdout",
     "output_type": "stream",
     "text": [
      "         date  day  aircraft  helicopter  tank  APC  field artillery  MRL  \\\n",
      "0  2022-02-25    2        10           7    80  516               49    4   \n",
      "1  2022-02-26    3        27          26   146  706               49    4   \n",
      "2  2022-02-27    4        27          26   150  706               50    4   \n",
      "3  2022-02-28    5        29          29   150  816               74   21   \n",
      "4  2022-03-01    6        29          29   198  846               77   24   \n",
      "\n",
      "   military auto  fuel tank  drone  naval ship  anti-aircraft warfare  \\\n",
      "0          100.0       60.0      0           2                      0   \n",
      "1          130.0       60.0      2           2                      0   \n",
      "2          130.0       60.0      2           2                      0   \n",
      "3          291.0       60.0      3           2                      5   \n",
      "4          305.0       60.0      3           2                      7   \n",
      "\n",
      "   special equipment  mobile SRBM system greatest losses direction  \\\n",
      "0                NaN                 NaN                       NaN   \n",
      "1                NaN                 NaN                       NaN   \n",
      "2                NaN                 NaN                       NaN   \n",
      "3                NaN                 NaN                       NaN   \n",
      "4                NaN                 NaN                       NaN   \n",
      "\n",
      "   vehicles and fuel tanks  cruise missiles  submarines  \n",
      "0                      NaN              NaN         NaN  \n",
      "1                      NaN              NaN         NaN  \n",
      "2                      NaN              NaN         NaN  \n",
      "3                      NaN              NaN         NaN  \n",
      "4                      NaN              NaN         NaN  \n"
     ]
    }
   ],
   "source": [
    "df = pd.read_csv(file)\n",
    "print(df.head())"
   ]
  },
  {
   "cell_type": "markdown",
   "metadata": {
    "id": "Q1JadhWo3xcS"
   },
   "source": [
    "1. Створіть функцію, яка приймає назву файлу та назву стовпця як\n",
    "параметр і повертає масив numpy зі значеннями стовпця."
   ]
  },
  {
   "cell_type": "code",
   "execution_count": 6,
   "metadata": {
    "executionInfo": {
     "elapsed": 393,
     "status": "ok",
     "timestamp": 1700255495669,
     "user": {
      "displayName": "Хайлов Данило",
      "userId": "17738531943993381932"
     },
     "user_tz": -120
    },
    "id": "YavjHSE-Bn-8"
   },
   "outputs": [],
   "source": [
    "def get_column_data (file, column_name):\n",
    "    with open (file, newline='') as csvf:\n",
    "        reader = csv.DictReader(csvf)\n",
    "        data = [row[column_name] for row in reader]\n",
    "    return np.array(data, dtype=int)"
   ]
  },
  {
   "cell_type": "markdown",
   "metadata": {
    "id": "7kIOnmin36Ri"
   },
   "source": [
    "2. Використовуючи функцію з попереднього завдання, створіть масив numpy зі значень стовпця «APC» (Armored personnel carrier)."
   ]
  },
  {
   "cell_type": "code",
   "execution_count": 7,
   "metadata": {
    "colab": {
     "base_uri": "https://localhost:8080/"
    },
    "executionInfo": {
     "elapsed": 250,
     "status": "ok",
     "timestamp": 1700255498727,
     "user": {
      "displayName": "Хайлов Данило",
      "userId": "17738531943993381932"
     },
     "user_tz": -120
    },
    "id": "zYT69NhXECie",
    "outputId": "b8f22466-66fa-4140-d79d-bd7dae571549"
   },
   "outputs": [
    {
     "name": "stdout",
     "output_type": "stream",
     "text": [
      "[ 516  706  706  816  846  862  900  939  945  985  999 1036 1070 1105\n",
      " 1165 1205 1226 1249 1279 1375 1435 1448 1470 1487 1535 1556 1578 1597\n",
      " 1625 1640 1664 1694 1710 1723 1735 1751 1776 1830 1844 1858 1861 1891\n",
      " 1891 1895 1911 1923 1946 1964 1968 1976 1982 2002 2041 2063 2087 2118\n",
      " 2162 2205 2238 2258 2308 2342 2389 2418 2445 2471 2519 2567 2610 2651\n",
      " 2686 2713 2741 2764 2808 2856 2873 2900 2934 2958 2974 3009 3043 3063\n",
      " 3090 3116 3141 3166 3194 3213 3235 3246 3258 3270 3282 3302 3343 3354\n",
      " 3366 3379 3392 3400 3416 3429 3438 3450 3466 3484 3492 3503 3528 3545\n",
      " 3563 3573 3577 3588 3606 3614 3632 3637 3645 3659 3687 3704 3720 3726\n",
      " 3736 3737 3744 3744 3772 3789 3797 3811 3815 3823 3828 3829 3832 3832\n",
      " 3866 3874 3879 3886 3892 3905 3912 3920 3929 3942 3950 3959 3971 3979\n",
      " 3987 3995 4004 4011 4014 4022 4026 4032 4051 4055 4070 4076 4086 4100\n",
      " 4108 4115 4126 4141 4152 4162 4179 4195 4212 4224 4230 4238 4243 4245\n",
      " 4251 4254 4257 4269 4294 4312 4345 4366 4403 4430 4459 4484 4520 4557\n",
      " 4575 4584 4617 4640 4662 4665 4682 4690 4701 4718 4720 4724 4748 4776\n",
      " 4796 4807 4832 4857 4881 4889 4909 4932 4949 4975 4991 5018 5038 5064\n",
      " 5093 5111 5133 5149 5162 5181 5167 5172 5179 5193 5205 5219 5235 5255\n",
      " 5258 5266 5284 5295 5321 5351 5364 5378 5401 5453 5485 5501 5525 5552\n",
      " 5580 5601 5611 5630 5654 5666 5682 5696 5730 5742 5748 5773 5797 5804\n",
      " 5808 5815 5817 5822 5827 5832 5837 5844 5848 5856 5861 5866 5872 5877\n",
      " 5883 5886 5892 5900 5905 5909 5911 5912 5917 5920 5928 5930 5937 5946\n",
      " 5952 5958 5963 5969 5974 5979 5981 5986 5994 6010 6017 6024 6037 6047\n",
      " 6059 6075 6084 6093 6100 6106 6108 6124 6125 6130 6147 6154 6159 6159\n",
      " 6167 6173 6183 6204 6215 6215 6235 6241 6256 6268 6276 6284 6307 6334\n",
      " 6340 6344 6366 6369 6378 6382 6382 6388 6394 6405 6415 6443 6458 6468\n",
      " 6471 6474 6488 6492 6500 6507 6517 6520 6533 6545 6553 6562 6569 6593\n",
      " 6600 6609 6615 6621 6630 6638 6658 6673 6683 6692 6703 6714 6723 6736\n",
      " 6742 6762 6769 6774 6789 6799 6810 6823 6830 6853 6869 6879 6887 6898\n",
      " 6921 6932 6947 6953 6966 6966 6974 6977 6981 6986 6993 6999 7005 7013\n",
      " 7016 7020 7024 7028 7038 7043 7053 7069 7073 7083 7087 7098 7110 7120\n",
      " 7126 7130 7131 7139 7151 7162 7178 7181 7184 7189 7192 7193 7199 7216\n",
      " 7224 7238 7248 7253 7257 7275 7287 7295 7307 7325 7336 7348 7365 7373\n",
      " 7377 7382 7398 7407 7419 7424 7432 7435 7442 7456 7467 7469 7472 7478\n",
      " 7490 7502 7512 7523 7543 7560 7576 7600 7607 7631 7636 7642 7653 7667\n",
      " 7683 7706 7729 7735 7750 7771 7783 7798 7804 7806 7820 7834 7847 7857\n",
      " 7863 7868 7888 7899 7908 7917 7932 7944 7953 7964 7966 7983 7990 7999\n",
      " 8008 8019 8026 8034 8051 8059 8065 8080 8096 8105 8118 8131 8136 8147\n",
      " 8161 8167 8178 8188 8205 8213 8234 8249 8251 8262 8270 8278 8290 8303\n",
      " 8318 8324 8335 8354 8370 8380 8398 8410 8424 8435 8449 8476 8488 8511\n",
      " 8521 8539 8554 8562 8579 8596 8604 8613 8637 8649 8663 8670 8682 8703\n",
      " 8726 8739 8755 8767 8778 8792 8810 8814 8824 8828]\n"
     ]
    }
   ],
   "source": [
    "apc_data = get_column_data(file, 'APC')\n",
    "print(apc_data)"
   ]
  },
  {
   "cell_type": "markdown",
   "metadata": {
    "id": "-kqkDSFO39hK"
   },
   "source": [
    "3. Знайдіть добові втрати БТР."
   ]
  },
  {
   "cell_type": "code",
   "execution_count": 8,
   "metadata": {
    "colab": {
     "base_uri": "https://localhost:8080/"
    },
    "executionInfo": {
     "elapsed": 2,
     "status": "ok",
     "timestamp": 1700255500998,
     "user": {
      "displayName": "Хайлов Данило",
      "userId": "17738531943993381932"
     },
     "user_tz": -120
    },
    "id": "x-THEtZGEM5S",
    "outputId": "d774792b-907c-44df-9bc4-aa5362f4cb9a"
   },
   "outputs": [
    {
     "name": "stdout",
     "output_type": "stream",
     "text": [
      "[190   0 110  30  16  38  39   6  40  14  37  34  35  60  40  21  23  30\n",
      "  96  60  13  22  17  48  21  22  19  28  15  24  30  16  13  12  16  25\n",
      "  54  14  14   3  30   0   4  16  12  23  18   4   8   6  20  39  22  24\n",
      "  31  44  43  33  20  50  34  47  29  27  26  48  48  43  41  35  27  28\n",
      "  23  44  48  17  27  34  24  16  35  34  20  27  26  25  25  28  19  22\n",
      "  11  12  12  12  20  41  11  12  13  13   8  16  13   9  12  16  18   8\n",
      "  11  25  17  18  10   4  11  18   8  18   5   8  14  28  17  16   6  10\n",
      "   1   7   0  28  17   8  14   4   8   5   1   3   0  34   8   5   7   6\n",
      "  13   7   8   9  13   8   9  12   8   8   8   9   7   3   8   4   6  19\n",
      "   4  15   6  10  14   8   7  11  15  11  10  17  16  17  12   6   8   5\n",
      "   2   6   3   3  12  25  18  33  21  37  27  29  25  36  37  18   9  33\n",
      "  23  22   3  17   8  11  17   2   4  24  28  20  11  25  25  24   8  20\n",
      "  23  17  26  16  27  20  26  29  18  22  16  13  19 -14   5   7  14  12\n",
      "  14  16  20   3   8  18  11  26  30  13  14  23  52  32  16  24  27  28\n",
      "  21  10  19  24  12  16  14  34  12   6  25  24   7   4   7   2   5   5\n",
      "   5   5   7   4   8   5   5   6   5   6   3   6   8   5   4   2   1   5\n",
      "   3   8   2   7   9   6   6   5   6   5   5   2   5   8  16   7   7  13\n",
      "  10  12  16   9   9   7   6   2  16   1   5  17   7   5   0   8   6  10\n",
      "  21  11   0  20   6  15  12   8   8  23  27   6   4  22   3   9   4   0\n",
      "   6   6  11  10  28  15  10   3   3  14   4   8   7  10   3  13  12   8\n",
      "   9   7  24   7   9   6   6   9   8  20  15  10   9  11  11   9  13   6\n",
      "  20   7   5  15  10  11  13   7  23  16  10   8  11  23  11  15   6  13\n",
      "   0   8   3   4   5   7   6   6   8   3   4   4   4  10   5  10  16   4\n",
      "  10   4  11  12  10   6   4   1   8  12  11  16   3   3   5   3   1   6\n",
      "  17   8  14  10   5   4  18  12   8  12  18  11  12  17   8   4   5  16\n",
      "   9  12   5   8   3   7  14  11   2   3   6  12  12  10  11  20  17  16\n",
      "  24   7  24   5   6  11  14  16  23  23   6  15  21  12  15   6   2  14\n",
      "  14  13  10   6   5  20  11   9   9  15  12   9  11   2  17   7   9   9\n",
      "  11   7   8  17   8   6  15  16   9  13  13   5  11  14   6  11  10  17\n",
      "   8  21  15   2  11   8   8  12  13  15   6  11  19  16  10  18  12  14\n",
      "  11  14  27  12  23  10  18  15   8  17  17   8   9  24  12  14   7  12\n",
      "  21  23  13  16  12  11  14  18   4  10   4]\n"
     ]
    }
   ],
   "source": [
    "daily_losses = np.diff(apc_data)\n",
    "top_5 = np.sort(daily_losses)[-5:]\n",
    "print(daily_losses)"
   ]
  },
  {
   "cell_type": "markdown",
   "metadata": {
    "id": "ktcg2rgq4BdF"
   },
   "source": [
    "4. Знайдіть 5 найбільших добових втрат БТР."
   ]
  },
  {
   "cell_type": "code",
   "execution_count": 9,
   "metadata": {
    "colab": {
     "base_uri": "https://localhost:8080/"
    },
    "executionInfo": {
     "elapsed": 2,
     "status": "ok",
     "timestamp": 1700255503159,
     "user": {
      "displayName": "Денис Махов",
      "userId": "17738531943993381932"
     },
     "user_tz": -120
    },
    "id": "TQae4FsQ4D0B",
    "outputId": "430af771-797a-444a-c868-c3045a11c1cb"
   },
   "outputs": [
    {
     "name": "stdout",
     "output_type": "stream",
     "text": [
      "[ 60  60  96 110 190]\n"
     ]
    }
   ],
   "source": [
    "print(top_5)"
   ]
  },
  {
   "cell_type": "markdown",
   "metadata": {
    "id": "VCtrHnHp4GVq"
   },
   "source": [
    "5. Визначте, скільки БТР було знищено влітку 2023 року."
   ]
  },
  {
   "cell_type": "code",
   "execution_count": null,
   "metadata": {
    "colab": {
     "base_uri": "https://localhost:8080/"
    },
    "executionInfo": {
     "elapsed": 415,
     "status": "ok",
     "timestamp": 1699529205242,
     "user": {
      "displayName": "Хайлов Данило",
      "userId": "09215499214807388872"
     },
     "user_tz": -120
    },
    "id": "BulX7GPkGhui",
    "outputId": "970c663f-3710-4ebf-c4e0-68d3cb49e409"
   },
   "outputs": [
    {
     "name": "stdout",
     "output_type": "stream",
     "text": [
      "1198\n"
     ]
    }
   ],
   "source": [
    "summer_losses = apc_data[213] - apc_data[121]\n",
    "print(summer_losses)"
   ]
  },
  {
   "cell_type": "markdown",
   "metadata": {
    "id": "QIeqURVO4JmC"
   },
   "source": [
    "6. Знайдіть середнє значення знищених БТР за 100-500 днів війни."
   ]
  },
  {
   "cell_type": "code",
   "execution_count": null,
   "metadata": {
    "colab": {
     "base_uri": "https://localhost:8080/"
    },
    "executionInfo": {
     "elapsed": 5,
     "status": "ok",
     "timestamp": 1699529242487,
     "user": {
      "displayName": "Хайлов Данило",
      "userId": "09215499214807388872"
     },
     "user_tz": -120
    },
    "id": "PI1H48NlGsF1",
    "outputId": "23c1c2c7-4fb0-4880-df7e-cef1a13078a3"
   },
   "outputs": [
    {
     "name": "stdout",
     "output_type": "stream",
     "text": [
      "5811.59\n"
     ]
    }
   ],
   "source": [
    "average_losses = np.mean(apc_data[99:500])\n",
    "print(round(average_losses, 2))"
   ]
  },
  {
   "cell_type": "markdown",
   "metadata": {
    "id": "EfNTNLvh4Qlq"
   },
   "source": [
    "7. Створіть графік втрат БТР за останні 200 днів (починаючи з останньої дати в наборі даних)"
   ]
  },
  {
   "cell_type": "code",
   "execution_count": null,
   "metadata": {
    "id": "gRpzqWlSBf1F"
   },
   "outputs": [],
   "source": [
    "last_200d_losses = apc_data[-200:]\n",
    "dates = np.arange(len(last_200d_losses))\n",
    "total = apc_data[-1]"
   ]
  },
  {
   "cell_type": "code",
   "execution_count": null,
   "metadata": {
    "id": "LW-0O6fvHjxt"
   },
   "outputs": [],
   "source": [
    "plt.plot(dates, last_200d_losses)\n",
    "plt.xlabel(\"Days\")\n",
    "plt.ylabel(\"Armored vehicle losses\")\n",
    "plt.title(\"Armored vehicle losses during last 200 days\")\n",
    "plt.show()"
   ]
  },
  {
   "cell_type": "markdown",
   "metadata": {
    "id": "C2tuMGiB4Rh9"
   },
   "source": [
    "**Висновок:**\n",
    "\n",
    "у цій лабораторній роботі було набуто навички використання бібліотек для роботи з даними на мові програмування Python, застосовано інструменти для графічної візуалізації даних і повторено вивчені раніше знання роботи з мовою програмування Python."
   ]
  }
 ],
 "metadata": {
  "colab": {
   "provenance": []
  },
  "kernelspec": {
   "display_name": "Python 3 (ipykernel)",
   "language": "python",
   "name": "python3"
  },
  "language_info": {
   "codemirror_mode": {
    "name": "ipython",
    "version": 3
   },
   "file_extension": ".py",
   "mimetype": "text/x-python",
   "name": "python",
   "nbconvert_exporter": "python",
   "pygments_lexer": "ipython3",
   "version": "3.11.5"
  }
 },
 "nbformat": 4,
 "nbformat_minor": 1
}